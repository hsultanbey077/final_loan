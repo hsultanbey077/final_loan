{
 "cells": [
  {
   "cell_type": "markdown",
   "id": "9c28980a-6062-4b2d-95de-6cbedbf58bb3",
   "metadata": {},
   "source": [
    "# FINAL PROJECT"
   ]
  },
  {
   "cell_type": "code",
   "execution_count": 16,
   "id": "0acc8293-d7c6-480f-b8e5-549317def8da",
   "metadata": {},
   "outputs": [],
   "source": [
    "import itertools\n",
    "import numpy as np\n",
    "import matplotlib.pyplot as plt\n",
    "from matplotlib.ticker import NullFormatter\n",
    "import pandas as pd\n",
    "import numpy as np\n",
    "import matplotlib.ticker as ticker\n",
    "from sklearn import preprocessing\n",
    "%matplotlib inline"
   ]
  },
  {
   "cell_type": "code",
   "execution_count": 17,
   "id": "7c191ed6-0e9f-4928-923c-0977e2999f5c",
   "metadata": {},
   "outputs": [],
   "source": [
    "df = pd.read_csv(\"loan_train.csv\")"
   ]
  },
  {
   "cell_type": "code",
   "execution_count": 18,
   "id": "540d5c80-6d40-4111-a577-96f1c1a34367",
   "metadata": {},
   "outputs": [
    {
     "data": {
      "text/html": [
       "<div>\n",
       "<style scoped>\n",
       "    .dataframe tbody tr th:only-of-type {\n",
       "        vertical-align: middle;\n",
       "    }\n",
       "\n",
       "    .dataframe tbody tr th {\n",
       "        vertical-align: top;\n",
       "    }\n",
       "\n",
       "    .dataframe thead th {\n",
       "        text-align: right;\n",
       "    }\n",
       "</style>\n",
       "<table border=\"1\" class=\"dataframe\">\n",
       "  <thead>\n",
       "    <tr style=\"text-align: right;\">\n",
       "      <th></th>\n",
       "      <th>Unnamed: 0</th>\n",
       "      <th>Unnamed: 0.1</th>\n",
       "      <th>loan_status</th>\n",
       "      <th>Principal</th>\n",
       "      <th>terms</th>\n",
       "      <th>effective_date</th>\n",
       "      <th>due_date</th>\n",
       "      <th>age</th>\n",
       "      <th>education</th>\n",
       "      <th>Gender</th>\n",
       "    </tr>\n",
       "  </thead>\n",
       "  <tbody>\n",
       "    <tr>\n",
       "      <th>0</th>\n",
       "      <td>0</td>\n",
       "      <td>0</td>\n",
       "      <td>PAIDOFF</td>\n",
       "      <td>1000</td>\n",
       "      <td>30</td>\n",
       "      <td>9/8/2016</td>\n",
       "      <td>10/7/2016</td>\n",
       "      <td>45</td>\n",
       "      <td>High School or Below</td>\n",
       "      <td>male</td>\n",
       "    </tr>\n",
       "    <tr>\n",
       "      <th>1</th>\n",
       "      <td>2</td>\n",
       "      <td>2</td>\n",
       "      <td>PAIDOFF</td>\n",
       "      <td>1000</td>\n",
       "      <td>30</td>\n",
       "      <td>9/8/2016</td>\n",
       "      <td>10/7/2016</td>\n",
       "      <td>33</td>\n",
       "      <td>Bechalor</td>\n",
       "      <td>female</td>\n",
       "    </tr>\n",
       "    <tr>\n",
       "      <th>2</th>\n",
       "      <td>3</td>\n",
       "      <td>3</td>\n",
       "      <td>PAIDOFF</td>\n",
       "      <td>1000</td>\n",
       "      <td>15</td>\n",
       "      <td>9/8/2016</td>\n",
       "      <td>9/22/2016</td>\n",
       "      <td>27</td>\n",
       "      <td>college</td>\n",
       "      <td>male</td>\n",
       "    </tr>\n",
       "    <tr>\n",
       "      <th>3</th>\n",
       "      <td>4</td>\n",
       "      <td>4</td>\n",
       "      <td>PAIDOFF</td>\n",
       "      <td>1000</td>\n",
       "      <td>30</td>\n",
       "      <td>9/9/2016</td>\n",
       "      <td>10/8/2016</td>\n",
       "      <td>28</td>\n",
       "      <td>college</td>\n",
       "      <td>female</td>\n",
       "    </tr>\n",
       "    <tr>\n",
       "      <th>4</th>\n",
       "      <td>6</td>\n",
       "      <td>6</td>\n",
       "      <td>PAIDOFF</td>\n",
       "      <td>1000</td>\n",
       "      <td>30</td>\n",
       "      <td>9/9/2016</td>\n",
       "      <td>10/8/2016</td>\n",
       "      <td>29</td>\n",
       "      <td>college</td>\n",
       "      <td>male</td>\n",
       "    </tr>\n",
       "    <tr>\n",
       "      <th>...</th>\n",
       "      <td>...</td>\n",
       "      <td>...</td>\n",
       "      <td>...</td>\n",
       "      <td>...</td>\n",
       "      <td>...</td>\n",
       "      <td>...</td>\n",
       "      <td>...</td>\n",
       "      <td>...</td>\n",
       "      <td>...</td>\n",
       "      <td>...</td>\n",
       "    </tr>\n",
       "    <tr>\n",
       "      <th>341</th>\n",
       "      <td>394</td>\n",
       "      <td>394</td>\n",
       "      <td>COLLECTION</td>\n",
       "      <td>800</td>\n",
       "      <td>15</td>\n",
       "      <td>9/11/2016</td>\n",
       "      <td>9/25/2016</td>\n",
       "      <td>32</td>\n",
       "      <td>High School or Below</td>\n",
       "      <td>male</td>\n",
       "    </tr>\n",
       "    <tr>\n",
       "      <th>342</th>\n",
       "      <td>395</td>\n",
       "      <td>395</td>\n",
       "      <td>COLLECTION</td>\n",
       "      <td>1000</td>\n",
       "      <td>30</td>\n",
       "      <td>9/11/2016</td>\n",
       "      <td>10/10/2016</td>\n",
       "      <td>25</td>\n",
       "      <td>High School or Below</td>\n",
       "      <td>male</td>\n",
       "    </tr>\n",
       "    <tr>\n",
       "      <th>343</th>\n",
       "      <td>397</td>\n",
       "      <td>397</td>\n",
       "      <td>COLLECTION</td>\n",
       "      <td>800</td>\n",
       "      <td>15</td>\n",
       "      <td>9/12/2016</td>\n",
       "      <td>9/26/2016</td>\n",
       "      <td>39</td>\n",
       "      <td>college</td>\n",
       "      <td>male</td>\n",
       "    </tr>\n",
       "    <tr>\n",
       "      <th>344</th>\n",
       "      <td>398</td>\n",
       "      <td>398</td>\n",
       "      <td>COLLECTION</td>\n",
       "      <td>1000</td>\n",
       "      <td>30</td>\n",
       "      <td>9/12/2016</td>\n",
       "      <td>11/10/2016</td>\n",
       "      <td>28</td>\n",
       "      <td>college</td>\n",
       "      <td>male</td>\n",
       "    </tr>\n",
       "    <tr>\n",
       "      <th>345</th>\n",
       "      <td>399</td>\n",
       "      <td>399</td>\n",
       "      <td>COLLECTION</td>\n",
       "      <td>1000</td>\n",
       "      <td>30</td>\n",
       "      <td>9/12/2016</td>\n",
       "      <td>10/11/2016</td>\n",
       "      <td>26</td>\n",
       "      <td>college</td>\n",
       "      <td>male</td>\n",
       "    </tr>\n",
       "  </tbody>\n",
       "</table>\n",
       "<p>346 rows × 10 columns</p>\n",
       "</div>"
      ],
      "text/plain": [
       "     Unnamed: 0  Unnamed: 0.1 loan_status  Principal  terms effective_date  \\\n",
       "0             0             0     PAIDOFF       1000     30       9/8/2016   \n",
       "1             2             2     PAIDOFF       1000     30       9/8/2016   \n",
       "2             3             3     PAIDOFF       1000     15       9/8/2016   \n",
       "3             4             4     PAIDOFF       1000     30       9/9/2016   \n",
       "4             6             6     PAIDOFF       1000     30       9/9/2016   \n",
       "..          ...           ...         ...        ...    ...            ...   \n",
       "341         394           394  COLLECTION        800     15      9/11/2016   \n",
       "342         395           395  COLLECTION       1000     30      9/11/2016   \n",
       "343         397           397  COLLECTION        800     15      9/12/2016   \n",
       "344         398           398  COLLECTION       1000     30      9/12/2016   \n",
       "345         399           399  COLLECTION       1000     30      9/12/2016   \n",
       "\n",
       "       due_date  age             education  Gender  \n",
       "0     10/7/2016   45  High School or Below    male  \n",
       "1     10/7/2016   33              Bechalor  female  \n",
       "2     9/22/2016   27               college    male  \n",
       "3     10/8/2016   28               college  female  \n",
       "4     10/8/2016   29               college    male  \n",
       "..          ...  ...                   ...     ...  \n",
       "341   9/25/2016   32  High School or Below    male  \n",
       "342  10/10/2016   25  High School or Below    male  \n",
       "343   9/26/2016   39               college    male  \n",
       "344  11/10/2016   28               college    male  \n",
       "345  10/11/2016   26               college    male  \n",
       "\n",
       "[346 rows x 10 columns]"
      ]
     },
     "execution_count": 18,
     "metadata": {},
     "output_type": "execute_result"
    }
   ],
   "source": [
    "df"
   ]
  },
  {
   "cell_type": "code",
   "execution_count": 19,
   "id": "9113a518-e893-4575-804b-a3b9c11493c9",
   "metadata": {},
   "outputs": [
    {
     "data": {
      "text/html": [
       "<div>\n",
       "<style scoped>\n",
       "    .dataframe tbody tr th:only-of-type {\n",
       "        vertical-align: middle;\n",
       "    }\n",
       "\n",
       "    .dataframe tbody tr th {\n",
       "        vertical-align: top;\n",
       "    }\n",
       "\n",
       "    .dataframe thead th {\n",
       "        text-align: right;\n",
       "    }\n",
       "</style>\n",
       "<table border=\"1\" class=\"dataframe\">\n",
       "  <thead>\n",
       "    <tr style=\"text-align: right;\">\n",
       "      <th></th>\n",
       "      <th>Unnamed: 0</th>\n",
       "      <th>Unnamed: 0.1</th>\n",
       "      <th>Principal</th>\n",
       "      <th>terms</th>\n",
       "      <th>age</th>\n",
       "    </tr>\n",
       "  </thead>\n",
       "  <tbody>\n",
       "    <tr>\n",
       "      <th>count</th>\n",
       "      <td>346.000000</td>\n",
       "      <td>346.000000</td>\n",
       "      <td>346.000000</td>\n",
       "      <td>346.000000</td>\n",
       "      <td>346.000000</td>\n",
       "    </tr>\n",
       "    <tr>\n",
       "      <th>mean</th>\n",
       "      <td>202.167630</td>\n",
       "      <td>202.167630</td>\n",
       "      <td>943.641618</td>\n",
       "      <td>22.653179</td>\n",
       "      <td>30.939306</td>\n",
       "    </tr>\n",
       "    <tr>\n",
       "      <th>std</th>\n",
       "      <td>115.459715</td>\n",
       "      <td>115.459715</td>\n",
       "      <td>109.425530</td>\n",
       "      <td>7.991006</td>\n",
       "      <td>6.039418</td>\n",
       "    </tr>\n",
       "    <tr>\n",
       "      <th>min</th>\n",
       "      <td>0.000000</td>\n",
       "      <td>0.000000</td>\n",
       "      <td>300.000000</td>\n",
       "      <td>7.000000</td>\n",
       "      <td>18.000000</td>\n",
       "    </tr>\n",
       "    <tr>\n",
       "      <th>25%</th>\n",
       "      <td>107.250000</td>\n",
       "      <td>107.250000</td>\n",
       "      <td>900.000000</td>\n",
       "      <td>15.000000</td>\n",
       "      <td>27.000000</td>\n",
       "    </tr>\n",
       "    <tr>\n",
       "      <th>50%</th>\n",
       "      <td>204.500000</td>\n",
       "      <td>204.500000</td>\n",
       "      <td>1000.000000</td>\n",
       "      <td>30.000000</td>\n",
       "      <td>30.000000</td>\n",
       "    </tr>\n",
       "    <tr>\n",
       "      <th>75%</th>\n",
       "      <td>298.750000</td>\n",
       "      <td>298.750000</td>\n",
       "      <td>1000.000000</td>\n",
       "      <td>30.000000</td>\n",
       "      <td>35.000000</td>\n",
       "    </tr>\n",
       "    <tr>\n",
       "      <th>max</th>\n",
       "      <td>399.000000</td>\n",
       "      <td>399.000000</td>\n",
       "      <td>1000.000000</td>\n",
       "      <td>30.000000</td>\n",
       "      <td>51.000000</td>\n",
       "    </tr>\n",
       "  </tbody>\n",
       "</table>\n",
       "</div>"
      ],
      "text/plain": [
       "       Unnamed: 0  Unnamed: 0.1    Principal       terms         age\n",
       "count  346.000000    346.000000   346.000000  346.000000  346.000000\n",
       "mean   202.167630    202.167630   943.641618   22.653179   30.939306\n",
       "std    115.459715    115.459715   109.425530    7.991006    6.039418\n",
       "min      0.000000      0.000000   300.000000    7.000000   18.000000\n",
       "25%    107.250000    107.250000   900.000000   15.000000   27.000000\n",
       "50%    204.500000    204.500000  1000.000000   30.000000   30.000000\n",
       "75%    298.750000    298.750000  1000.000000   30.000000   35.000000\n",
       "max    399.000000    399.000000  1000.000000   30.000000   51.000000"
      ]
     },
     "execution_count": 19,
     "metadata": {},
     "output_type": "execute_result"
    }
   ],
   "source": [
    "df.describe()"
   ]
  },
  {
   "cell_type": "code",
   "execution_count": 20,
   "id": "a7a60adf-02ce-496c-857f-a00dd440046e",
   "metadata": {},
   "outputs": [
    {
     "name": "stdout",
     "output_type": "stream",
     "text": [
      "<class 'pandas.core.frame.DataFrame'>\n",
      "RangeIndex: 346 entries, 0 to 345\n",
      "Data columns (total 10 columns):\n",
      " #   Column          Non-Null Count  Dtype \n",
      "---  ------          --------------  ----- \n",
      " 0   Unnamed: 0      346 non-null    int64 \n",
      " 1   Unnamed: 0.1    346 non-null    int64 \n",
      " 2   loan_status     346 non-null    object\n",
      " 3   Principal       346 non-null    int64 \n",
      " 4   terms           346 non-null    int64 \n",
      " 5   effective_date  346 non-null    object\n",
      " 6   due_date        346 non-null    object\n",
      " 7   age             346 non-null    int64 \n",
      " 8   education       346 non-null    object\n",
      " 9   Gender          346 non-null    object\n",
      "dtypes: int64(5), object(5)\n",
      "memory usage: 27.2+ KB\n"
     ]
    }
   ],
   "source": [
    "df.info()"
   ]
  },
  {
   "cell_type": "markdown",
   "id": "40c2f5aa-7d44-4969-afa4-e91d40b14740",
   "metadata": {},
   "source": [
    "# Preprocessing and Cleaning Data"
   ]
  },
  {
   "cell_type": "code",
   "execution_count": 21,
   "id": "2f3b6f51-e680-4115-9de9-daec4f2ea299",
   "metadata": {},
   "outputs": [],
   "source": [
    "df[\"due_date\"] = pd.to_datetime(df[\"due_date\"])\n",
    "df[\"effective_date\"] = pd.to_datetime(df[\"effective_date\"])"
   ]
  },
  {
   "cell_type": "code",
   "execution_count": 22,
   "id": "b7cbf4de-b9b9-4847-a5fd-563db11cb283",
   "metadata": {},
   "outputs": [],
   "source": [
    "from sklearn import preprocessing\n",
    "le = preprocessing.LabelEncoder()\n",
    "df[\"Gender\"] = le.fit_transform(df[\"Gender\"])"
   ]
  },
  {
   "cell_type": "code",
   "execution_count": 24,
   "id": "e474f021-096a-4b7c-b689-82695858feed",
   "metadata": {},
   "outputs": [],
   "source": [
    "df['dayofweek'] = df['effective_date'].dt.dayofweek\n",
    "df['weekend'] = df['dayofweek'].apply(lambda x: 1 if (x>3)  else 0)"
   ]
  },
  {
   "cell_type": "code",
   "execution_count": 25,
   "id": "105ae0c9-f5f1-4bcc-9337-7854a2f1c12c",
   "metadata": {},
   "outputs": [
    {
     "data": {
      "text/html": [
       "<div>\n",
       "<style scoped>\n",
       "    .dataframe tbody tr th:only-of-type {\n",
       "        vertical-align: middle;\n",
       "    }\n",
       "\n",
       "    .dataframe tbody tr th {\n",
       "        vertical-align: top;\n",
       "    }\n",
       "\n",
       "    .dataframe thead th {\n",
       "        text-align: right;\n",
       "    }\n",
       "</style>\n",
       "<table border=\"1\" class=\"dataframe\">\n",
       "  <thead>\n",
       "    <tr style=\"text-align: right;\">\n",
       "      <th></th>\n",
       "      <th>Unnamed: 0</th>\n",
       "      <th>Unnamed: 0.1</th>\n",
       "      <th>loan_status</th>\n",
       "      <th>Principal</th>\n",
       "      <th>terms</th>\n",
       "      <th>effective_date</th>\n",
       "      <th>due_date</th>\n",
       "      <th>age</th>\n",
       "      <th>education</th>\n",
       "      <th>Gender</th>\n",
       "      <th>dayofweek</th>\n",
       "      <th>weekend</th>\n",
       "    </tr>\n",
       "  </thead>\n",
       "  <tbody>\n",
       "    <tr>\n",
       "      <th>0</th>\n",
       "      <td>0</td>\n",
       "      <td>0</td>\n",
       "      <td>PAIDOFF</td>\n",
       "      <td>1000</td>\n",
       "      <td>30</td>\n",
       "      <td>2016-09-08</td>\n",
       "      <td>2016-10-07</td>\n",
       "      <td>45</td>\n",
       "      <td>High School or Below</td>\n",
       "      <td>1</td>\n",
       "      <td>3</td>\n",
       "      <td>0</td>\n",
       "    </tr>\n",
       "    <tr>\n",
       "      <th>1</th>\n",
       "      <td>2</td>\n",
       "      <td>2</td>\n",
       "      <td>PAIDOFF</td>\n",
       "      <td>1000</td>\n",
       "      <td>30</td>\n",
       "      <td>2016-09-08</td>\n",
       "      <td>2016-10-07</td>\n",
       "      <td>33</td>\n",
       "      <td>Bechalor</td>\n",
       "      <td>0</td>\n",
       "      <td>3</td>\n",
       "      <td>0</td>\n",
       "    </tr>\n",
       "    <tr>\n",
       "      <th>2</th>\n",
       "      <td>3</td>\n",
       "      <td>3</td>\n",
       "      <td>PAIDOFF</td>\n",
       "      <td>1000</td>\n",
       "      <td>15</td>\n",
       "      <td>2016-09-08</td>\n",
       "      <td>2016-09-22</td>\n",
       "      <td>27</td>\n",
       "      <td>college</td>\n",
       "      <td>1</td>\n",
       "      <td>3</td>\n",
       "      <td>0</td>\n",
       "    </tr>\n",
       "    <tr>\n",
       "      <th>3</th>\n",
       "      <td>4</td>\n",
       "      <td>4</td>\n",
       "      <td>PAIDOFF</td>\n",
       "      <td>1000</td>\n",
       "      <td>30</td>\n",
       "      <td>2016-09-09</td>\n",
       "      <td>2016-10-08</td>\n",
       "      <td>28</td>\n",
       "      <td>college</td>\n",
       "      <td>0</td>\n",
       "      <td>4</td>\n",
       "      <td>1</td>\n",
       "    </tr>\n",
       "    <tr>\n",
       "      <th>4</th>\n",
       "      <td>6</td>\n",
       "      <td>6</td>\n",
       "      <td>PAIDOFF</td>\n",
       "      <td>1000</td>\n",
       "      <td>30</td>\n",
       "      <td>2016-09-09</td>\n",
       "      <td>2016-10-08</td>\n",
       "      <td>29</td>\n",
       "      <td>college</td>\n",
       "      <td>1</td>\n",
       "      <td>4</td>\n",
       "      <td>1</td>\n",
       "    </tr>\n",
       "  </tbody>\n",
       "</table>\n",
       "</div>"
      ],
      "text/plain": [
       "   Unnamed: 0  Unnamed: 0.1 loan_status  Principal  terms effective_date  \\\n",
       "0           0             0     PAIDOFF       1000     30     2016-09-08   \n",
       "1           2             2     PAIDOFF       1000     30     2016-09-08   \n",
       "2           3             3     PAIDOFF       1000     15     2016-09-08   \n",
       "3           4             4     PAIDOFF       1000     30     2016-09-09   \n",
       "4           6             6     PAIDOFF       1000     30     2016-09-09   \n",
       "\n",
       "    due_date  age             education  Gender  dayofweek  weekend  \n",
       "0 2016-10-07   45  High School or Below       1          3        0  \n",
       "1 2016-10-07   33              Bechalor       0          3        0  \n",
       "2 2016-09-22   27               college       1          3        0  \n",
       "3 2016-10-08   28               college       0          4        1  \n",
       "4 2016-10-08   29               college       1          4        1  "
      ]
     },
     "execution_count": 25,
     "metadata": {},
     "output_type": "execute_result"
    }
   ],
   "source": [
    "df.head()"
   ]
  },
  {
   "cell_type": "code",
   "execution_count": 27,
   "id": "66037ebf-b229-4a20-a77a-575ea26dc670",
   "metadata": {},
   "outputs": [
    {
     "data": {
      "text/html": [
       "<div>\n",
       "<style scoped>\n",
       "    .dataframe tbody tr th:only-of-type {\n",
       "        vertical-align: middle;\n",
       "    }\n",
       "\n",
       "    .dataframe tbody tr th {\n",
       "        vertical-align: top;\n",
       "    }\n",
       "\n",
       "    .dataframe thead th {\n",
       "        text-align: right;\n",
       "    }\n",
       "</style>\n",
       "<table border=\"1\" class=\"dataframe\">\n",
       "  <thead>\n",
       "    <tr style=\"text-align: right;\">\n",
       "      <th></th>\n",
       "      <th>Principal</th>\n",
       "      <th>terms</th>\n",
       "      <th>age</th>\n",
       "      <th>Gender</th>\n",
       "      <th>weekend</th>\n",
       "      <th>Bechalor</th>\n",
       "      <th>High School or Below</th>\n",
       "      <th>college</th>\n",
       "    </tr>\n",
       "  </thead>\n",
       "  <tbody>\n",
       "    <tr>\n",
       "      <th>0</th>\n",
       "      <td>1000</td>\n",
       "      <td>30</td>\n",
       "      <td>45</td>\n",
       "      <td>1</td>\n",
       "      <td>0</td>\n",
       "      <td>0</td>\n",
       "      <td>1</td>\n",
       "      <td>0</td>\n",
       "    </tr>\n",
       "    <tr>\n",
       "      <th>1</th>\n",
       "      <td>1000</td>\n",
       "      <td>30</td>\n",
       "      <td>33</td>\n",
       "      <td>0</td>\n",
       "      <td>0</td>\n",
       "      <td>1</td>\n",
       "      <td>0</td>\n",
       "      <td>0</td>\n",
       "    </tr>\n",
       "    <tr>\n",
       "      <th>2</th>\n",
       "      <td>1000</td>\n",
       "      <td>15</td>\n",
       "      <td>27</td>\n",
       "      <td>1</td>\n",
       "      <td>0</td>\n",
       "      <td>0</td>\n",
       "      <td>0</td>\n",
       "      <td>1</td>\n",
       "    </tr>\n",
       "    <tr>\n",
       "      <th>3</th>\n",
       "      <td>1000</td>\n",
       "      <td>30</td>\n",
       "      <td>28</td>\n",
       "      <td>0</td>\n",
       "      <td>1</td>\n",
       "      <td>0</td>\n",
       "      <td>0</td>\n",
       "      <td>1</td>\n",
       "    </tr>\n",
       "    <tr>\n",
       "      <th>4</th>\n",
       "      <td>1000</td>\n",
       "      <td>30</td>\n",
       "      <td>29</td>\n",
       "      <td>1</td>\n",
       "      <td>1</td>\n",
       "      <td>0</td>\n",
       "      <td>0</td>\n",
       "      <td>1</td>\n",
       "    </tr>\n",
       "  </tbody>\n",
       "</table>\n",
       "</div>"
      ],
      "text/plain": [
       "   Principal  terms  age  Gender  weekend  Bechalor  High School or Below  \\\n",
       "0       1000     30   45       1        0         0                     1   \n",
       "1       1000     30   33       0        0         1                     0   \n",
       "2       1000     15   27       1        0         0                     0   \n",
       "3       1000     30   28       0        1         0                     0   \n",
       "4       1000     30   29       1        1         0                     0   \n",
       "\n",
       "   college  \n",
       "0        0  \n",
       "1        0  \n",
       "2        1  \n",
       "3        1  \n",
       "4        1  "
      ]
     },
     "execution_count": 27,
     "metadata": {},
     "output_type": "execute_result"
    }
   ],
   "source": [
    "new_df = df[['Principal','terms','age','Gender','weekend']]\n",
    "new_df = pd.concat([new_df,pd.get_dummies(df['education'])], axis=1)\n",
    "new_df.drop(['Master or Above'], axis = 1,inplace=True)\n",
    "new_df.head()"
   ]
  },
  {
   "cell_type": "code",
   "execution_count": 33,
   "id": "663691f2-9cec-4e5e-994d-7c43341766b2",
   "metadata": {},
   "outputs": [],
   "source": [
    "x =new_df\n",
    "y = le.fit_transform(df[\"loan_status\"])"
   ]
  },
  {
   "cell_type": "markdown",
   "id": "edbb7724-f8da-495f-ae5f-318200d65038",
   "metadata": {},
   "source": [
    "# Modelling"
   ]
  },
  {
   "cell_type": "code",
   "execution_count": 36,
   "id": "bf67356b-0006-4af6-adda-9bfe2d97b8ea",
   "metadata": {},
   "outputs": [
    {
     "data": {
      "text/plain": [
       "array([[ 0.51578458,  0.92071769,  2.33152555,  0.42056004, -1.20577805,\n",
       "        -0.38170062,  1.13639374, -0.86968108],\n",
       "       [ 0.51578458,  0.92071769,  0.34170148, -2.37778177, -1.20577805,\n",
       "         2.61985426, -0.87997669, -0.86968108],\n",
       "       [ 0.51578458, -0.95911111, -0.65321055,  0.42056004, -1.20577805,\n",
       "        -0.38170062, -0.87997669,  1.14984679],\n",
       "       [ 0.51578458,  0.92071769, -0.48739188, -2.37778177,  0.82934003,\n",
       "        -0.38170062, -0.87997669,  1.14984679],\n",
       "       [ 0.51578458,  0.92071769, -0.3215732 ,  0.42056004,  0.82934003,\n",
       "        -0.38170062, -0.87997669,  1.14984679]])"
      ]
     },
     "execution_count": 36,
     "metadata": {},
     "output_type": "execute_result"
    }
   ],
   "source": [
    "x= preprocessing.StandardScaler().fit(x).transform(x)\n",
    "x[0:5]"
   ]
  },
  {
   "cell_type": "code",
   "execution_count": 37,
   "id": "4ece39c3-8a86-4f37-8f6a-ca3f29c545b1",
   "metadata": {},
   "outputs": [],
   "source": [
    "from sklearn.neighbors import KNeighborsClassifier\n",
    "from sklearn.model_selection import train_test_split\n",
    "from sklearn import metrics\n",
    "X_train, X_test, y_train, y_test = train_test_split( x, y, test_size=0.2, random_state=4)"
   ]
  },
  {
   "cell_type": "code",
   "execution_count": 81,
   "id": "8514faef-6c9f-4e12-a69a-92f823c0a1fa",
   "metadata": {},
   "outputs": [],
   "source": [
    "accuracy = []\n",
    "for i in range(1,51):\n",
    "    knnmodel=KNeighborsClassifier(n_neighbors=i).fit(X_train,y_train)\n",
    "    y_pred = knnmodel.predict(X_test)\n",
    "    accuracy.append(metrics.accuracy_score(y_test,y_pred))"
   ]
  },
  {
   "cell_type": "code",
   "execution_count": 82,
   "id": "247416ed-8c1b-4ce8-aaa0-b7027e2f80b5",
   "metadata": {},
   "outputs": [
    {
     "data": {
      "text/plain": [
       "[<matplotlib.lines.Line2D at 0x7ff9f0055670>]"
      ]
     },
     "execution_count": 82,
     "metadata": {},
     "output_type": "execute_result"
    },
    {
     "data": {
      "image/png": "[encoded data removed]",
      "text/plain": [
       "<Figure size 1080x720 with 1 Axes>"
      ]
     },
     "metadata": {
      "needs_background": "light"
     },
     "output_type": "display_data"
    }
   ],
   "source": [
    "plt.figure(figsize=(15,10))\n",
    "plt.plot(range(1,51),accuracy)"
   ]
  },
  {
   "cell_type": "markdown",
   "id": "f47b62b9-a95f-44f2-bfa4-7caef174e22a",
   "metadata": {},
   "source": [
    "# Decision Tree"
   ]
  },
  {
   "cell_type": "code",
   "execution_count": 83,
   "id": "86f58a1e-523a-4345-ac5e-e47a67b45e1d",
   "metadata": {},
   "outputs": [],
   "source": [
    "from sklearn.tree import DecisionTreeClassifier"
   ]
  },
  {
   "cell_type": "code",
   "execution_count": 84,
   "id": "b04feb7c-d30f-4fbd-a3cf-6ce5f91c78ce",
   "metadata": {},
   "outputs": [
    {
     "data": {
      "text/plain": [
       "DecisionTreeClassifier(criterion='entropy', max_depth=6)"
      ]
     },
     "execution_count": 84,
     "metadata": {},
     "output_type": "execute_result"
    }
   ],
   "source": [
    "dtmodel = DecisionTreeClassifier(criterion=\"entropy\", max_depth = 6)\n",
    "dtmodel.fit(X_train,y_train)"
   ]
  },
  {
   "cell_type": "code",
   "execution_count": 85,
   "id": "b40e87e0-3194-4f4c-84d4-240f32ebf547",
   "metadata": {},
   "outputs": [
    {
     "data": {
      "text/plain": [
       "0.7714285714285715"
      ]
     },
     "execution_count": 85,
     "metadata": {},
     "output_type": "execute_result"
    }
   ],
   "source": [
    "y_pred=dtmodel.predict(X_test)\n",
    "Accuracy=metrics.accuracy_score(y_test,y_pred)\n",
    "Accuracy"
   ]
  },
  {
   "cell_type": "markdown",
   "id": "7c676fb0-6522-4384-9577-1510c34f742e",
   "metadata": {},
   "source": [
    "# SVM"
   ]
  },
  {
   "cell_type": "code",
   "execution_count": 86,
   "id": "5a17f61f-26ef-4ff9-b2d0-4cb974b1d461",
   "metadata": {},
   "outputs": [
    {
     "data": {
      "text/plain": [
       "SVC()"
      ]
     },
     "execution_count": 86,
     "metadata": {},
     "output_type": "execute_result"
    }
   ],
   "source": [
    "from sklearn import svm\n",
    "svmmodel=svm.SVC(kernel='rbf')\n",
    "svmmodel.fit(X_train,y_train)"
   ]
  },
  {
   "cell_type": "code",
   "execution_count": 87,
   "id": "b17ece1c-0308-4550-af40-e7ba3f889e53",
   "metadata": {},
   "outputs": [
    {
     "data": {
      "text/plain": [
       "array([0, 1, 1, 1, 1, 1, 0, 0, 1, 1, 1, 1, 1, 1, 1, 1, 0, 1, 1, 1, 1, 1,\n",
       "       0, 0, 1, 0, 0, 1, 1, 1, 1, 1, 1, 1, 1, 1, 1, 1, 0, 1, 1, 1, 1, 0,\n",
       "       1, 1, 1, 1, 1, 1, 1, 1, 1, 1, 1, 1, 1, 1, 1, 1, 1, 1, 1, 0, 1, 1,\n",
       "       1, 1, 1, 1])"
      ]
     },
     "execution_count": 87,
     "metadata": {},
     "output_type": "execute_result"
    }
   ],
   "source": [
    "y_pred=svmmodel.predict(X_test)\n",
    "y_pred"
   ]
  },
  {
   "cell_type": "code",
   "execution_count": 88,
   "id": "a1150fb3-a81c-40b9-92e3-44ef3ae0564f",
   "metadata": {},
   "outputs": [
    {
     "data": {
      "text/plain": [
       "0.7428571428571429"
      ]
     },
     "execution_count": 88,
     "metadata": {},
     "output_type": "execute_result"
    }
   ],
   "source": [
    "metrics.accuracy_score(y_test,y_pred)"
   ]
  },
  {
   "cell_type": "markdown",
   "id": "747a611a-590b-48c7-a260-0676ffc1c6d8",
   "metadata": {},
   "source": [
    "# Logistic regression"
   ]
  },
  {
   "cell_type": "code",
   "execution_count": 111,
   "id": "4ea35858-241e-4af1-905d-13c4a53637c6",
   "metadata": {},
   "outputs": [],
   "source": [
    "from sklearn.linear_model import LogisticRegression\n",
    "from sklearn.metrics import confusion_matrix\n",
    "lrmodel = LogisticRegression().fit(X_train,y_train)"
   ]
  },
  {
   "cell_type": "code",
   "execution_count": 112,
   "id": "8c5af78e-8052-40ed-aab6-c884efba0a0c",
   "metadata": {},
   "outputs": [],
   "source": [
    "y_pred = lrmodel.predict(X_test)"
   ]
  },
  {
   "cell_type": "code",
   "execution_count": 113,
   "id": "b96bc834-4e30-4153-9528-74699977a4d2",
   "metadata": {},
   "outputs": [
    {
     "data": {
      "text/plain": [
       "array([0, 1, 1, 1, 1, 1, 1, 1, 1, 1, 1, 1, 1, 1, 1, 1, 0, 1, 1, 1, 1, 1,\n",
       "       0, 1, 1, 0, 0, 1, 1, 1, 1, 1, 1, 1, 1, 1, 1, 1, 1, 1, 1, 1, 1, 0,\n",
       "       1, 0, 1, 1, 1, 1, 1, 1, 1, 1, 1, 1, 1, 1, 1, 1, 1, 1, 1, 0, 1, 1,\n",
       "       1, 1, 1, 1])"
      ]
     },
     "execution_count": 113,
     "metadata": {},
     "output_type": "execute_result"
    }
   ],
   "source": [
    "y_pred"
   ]
  },
  {
   "cell_type": "code",
   "execution_count": 114,
   "id": "c48b4fcd-6898-4ac6-b89b-48ebb7ed40b7",
   "metadata": {},
   "outputs": [
    {
     "data": {
      "text/plain": [
       "0.7285714285714285"
      ]
     },
     "execution_count": 114,
     "metadata": {},
     "output_type": "execute_result"
    }
   ],
   "source": [
    "metrics.accuracy_score(y_test,y_pred)"
   ]
  },
  {
   "cell_type": "code",
   "execution_count": 141,
   "id": "65ecd01b-d95b-45d7-9752-6e1ab440dbba",
   "metadata": {},
   "outputs": [
    {
     "name": "stdout",
     "output_type": "stream",
     "text": [
      "[[0.51845689 0.48154311]\n",
      " [0.38663558 0.61336442]\n",
      " [0.02326667 0.97673333]\n",
      " [0.03501101 0.96498899]\n",
      " [0.02344812 0.97655188]\n",
      " [0.0273295  0.9726705 ]\n",
      " [0.45665682 0.54334318]\n",
      " [0.41607128 0.58392872]\n",
      " [0.03501101 0.96498899]\n",
      " [0.45828046 0.54171954]\n",
      " [0.0323264  0.9676736 ]\n",
      " [0.45333621 0.54666379]\n",
      " [0.01662574 0.98337426]\n",
      " [0.03995494 0.96004506]\n",
      " [0.28127121 0.71872879]\n",
      " [0.01012531 0.98987469]\n",
      " [0.59966943 0.40033057]\n",
      " [0.01876212 0.98123788]\n",
      " [0.47386304 0.52613696]\n",
      " [0.0268046  0.9731954 ]\n",
      " [0.26512852 0.73487148]\n",
      " [0.44312762 0.55687238]\n",
      " [0.55946092 0.44053908]\n",
      " [0.40446024 0.59553976]\n",
      " [0.2186388  0.7813612 ]\n",
      " [0.53902492 0.46097508]\n",
      " [0.5492637  0.4507363 ]\n",
      " [0.17231405 0.82768595]\n",
      " [0.48416408 0.51583592]\n",
      " [0.00700314 0.99299686]\n",
      " [0.35892096 0.64107904]\n",
      " [0.32507789 0.67492211]\n",
      " [0.42644675 0.57355325]\n",
      " [0.40285298 0.59714702]\n",
      " [0.22286862 0.77713138]\n",
      " [0.32187597 0.67812403]\n",
      " [0.47386304 0.52613696]\n",
      " [0.01466131 0.98533869]\n",
      " [0.34647167 0.65352833]\n",
      " [0.34574189 0.65425811]\n",
      " [0.49447859 0.50552141]\n",
      " [0.02790268 0.97209732]\n",
      " [0.33392305 0.66607695]\n",
      " [0.53902492 0.46097508]\n",
      " [0.01953735 0.98046265]\n",
      " [0.50566079 0.49433921]\n",
      " [0.36847324 0.63152676]\n",
      " [0.45333621 0.54666379]\n",
      " [0.31293309 0.68706691]\n",
      " [0.32119346 0.67880654]\n",
      " [0.01380099 0.98619901]\n",
      " [0.40018969 0.59981031]\n",
      " [0.03191554 0.96808446]\n",
      " [0.42286214 0.57713786]\n",
      " [0.03630664 0.96369336]\n",
      " [0.00896656 0.99103344]\n",
      " [0.02473311 0.97526689]\n",
      " [0.22690462 0.77309538]\n",
      " [0.35892096 0.64107904]\n",
      " [0.03546626 0.96453374]\n",
      " [0.15628995 0.84371005]\n",
      " [0.02866914 0.97133086]\n",
      " [0.32187597 0.67812403]\n",
      " [0.60953696 0.39046304]\n",
      " [0.02904441 0.97095559]\n",
      " [0.44312762 0.55687238]\n",
      " [0.02866914 0.97133086]\n",
      " [0.20244974 0.79755026]\n",
      " [0.32480578 0.67519422]\n",
      " [0.02904441 0.97095559]]\n"
     ]
    }
   ],
   "source": [
    "print(lrmodel.predict_proba(X_test))"
   ]
  },
  {
   "cell_type": "markdown",
   "id": "ce4a57f8-44d8-4897-8761-d370aa7b207e",
   "metadata": {},
   "source": [
    "# Modelling with test dataset"
   ]
  },
  {
   "cell_type": "code",
   "execution_count": 148,
   "id": "c6365e81-9d8f-437e-9116-ab407219a8d7",
   "metadata": {},
   "outputs": [],
   "source": [
    "from sklearn.metrics import jaccard_score\n",
    "from sklearn.metrics import f1_score\n",
    "from sklearn.metrics import log_loss"
   ]
  },
  {
   "cell_type": "code",
   "execution_count": 149,
   "id": "fb0e6e1a-6936-4941-a599-5cc56809fc2b",
   "metadata": {},
   "outputs": [],
   "source": [
    "test_df = pd.read_csv(\"loan_test.csv\")"
   ]
  },
  {
   "cell_type": "code",
   "execution_count": 150,
   "id": "52a34e90-6960-48d9-8fd5-d25379416e2f",
   "metadata": {},
   "outputs": [],
   "source": [
    "df[\"due_date\"] = pd.to_datetime(df[\"due_date\"])\n",
    "df[\"effective_date\"] = pd.to_datetime(df[\"effective_date\"])\n",
    "df[\"Gender\"] = le.fit_transform(df[\"Gender\"])\n",
    "df['dayofweek'] = df['effective_date'].dt.dayofweek\n",
    "df['weekend'] = df['dayofweek'].apply(lambda x: 1 if (x>3)  else 0)\n",
    "new_df = df[['Principal','terms','age','Gender','weekend']]\n",
    "new_df = pd.concat([new_df,pd.get_dummies(df['education'])], axis=1)\n",
    "new_df.drop(['Master or Above'], axis = 1,inplace=True)"
   ]
  },
  {
   "cell_type": "code",
   "execution_count": 151,
   "id": "afe33ac5-56cc-46ac-be10-cd67a4fb9c6f",
   "metadata": {},
   "outputs": [],
   "source": [
    "xtest =new_df\n",
    "ytest = le.fit_transform(df[\"loan_status\"])"
   ]
  },
  {
   "cell_type": "code",
   "execution_count": 152,
   "id": "7e3ec800-6020-4cac-8a0e-0e8d79848139",
   "metadata": {},
   "outputs": [
    {
     "data": {
      "text/html": [
       "<div>\n",
       "<style scoped>\n",
       "    .dataframe tbody tr th:only-of-type {\n",
       "        vertical-align: middle;\n",
       "    }\n",
       "\n",
       "    .dataframe tbody tr th {\n",
       "        vertical-align: top;\n",
       "    }\n",
       "\n",
       "    .dataframe thead th {\n",
       "        text-align: right;\n",
       "    }\n",
       "</style>\n",
       "<table border=\"1\" class=\"dataframe\">\n",
       "  <thead>\n",
       "    <tr style=\"text-align: right;\">\n",
       "      <th></th>\n",
       "      <th>Principal</th>\n",
       "      <th>terms</th>\n",
       "      <th>age</th>\n",
       "      <th>Gender</th>\n",
       "      <th>weekend</th>\n",
       "      <th>Bechalor</th>\n",
       "      <th>High School or Below</th>\n",
       "      <th>college</th>\n",
       "    </tr>\n",
       "  </thead>\n",
       "  <tbody>\n",
       "    <tr>\n",
       "      <th>0</th>\n",
       "      <td>1000</td>\n",
       "      <td>30</td>\n",
       "      <td>45</td>\n",
       "      <td>1</td>\n",
       "      <td>0</td>\n",
       "      <td>0</td>\n",
       "      <td>1</td>\n",
       "      <td>0</td>\n",
       "    </tr>\n",
       "    <tr>\n",
       "      <th>1</th>\n",
       "      <td>1000</td>\n",
       "      <td>30</td>\n",
       "      <td>33</td>\n",
       "      <td>0</td>\n",
       "      <td>0</td>\n",
       "      <td>1</td>\n",
       "      <td>0</td>\n",
       "      <td>0</td>\n",
       "    </tr>\n",
       "    <tr>\n",
       "      <th>2</th>\n",
       "      <td>1000</td>\n",
       "      <td>15</td>\n",
       "      <td>27</td>\n",
       "      <td>1</td>\n",
       "      <td>0</td>\n",
       "      <td>0</td>\n",
       "      <td>0</td>\n",
       "      <td>1</td>\n",
       "    </tr>\n",
       "    <tr>\n",
       "      <th>3</th>\n",
       "      <td>1000</td>\n",
       "      <td>30</td>\n",
       "      <td>28</td>\n",
       "      <td>0</td>\n",
       "      <td>1</td>\n",
       "      <td>0</td>\n",
       "      <td>0</td>\n",
       "      <td>1</td>\n",
       "    </tr>\n",
       "    <tr>\n",
       "      <th>4</th>\n",
       "      <td>1000</td>\n",
       "      <td>30</td>\n",
       "      <td>29</td>\n",
       "      <td>1</td>\n",
       "      <td>1</td>\n",
       "      <td>0</td>\n",
       "      <td>0</td>\n",
       "      <td>1</td>\n",
       "    </tr>\n",
       "    <tr>\n",
       "      <th>...</th>\n",
       "      <td>...</td>\n",
       "      <td>...</td>\n",
       "      <td>...</td>\n",
       "      <td>...</td>\n",
       "      <td>...</td>\n",
       "      <td>...</td>\n",
       "      <td>...</td>\n",
       "      <td>...</td>\n",
       "    </tr>\n",
       "    <tr>\n",
       "      <th>341</th>\n",
       "      <td>800</td>\n",
       "      <td>15</td>\n",
       "      <td>32</td>\n",
       "      <td>1</td>\n",
       "      <td>1</td>\n",
       "      <td>0</td>\n",
       "      <td>1</td>\n",
       "      <td>0</td>\n",
       "    </tr>\n",
       "    <tr>\n",
       "      <th>342</th>\n",
       "      <td>1000</td>\n",
       "      <td>30</td>\n",
       "      <td>25</td>\n",
       "      <td>1</td>\n",
       "      <td>1</td>\n",
       "      <td>0</td>\n",
       "      <td>1</td>\n",
       "      <td>0</td>\n",
       "    </tr>\n",
       "    <tr>\n",
       "      <th>343</th>\n",
       "      <td>800</td>\n",
       "      <td>15</td>\n",
       "      <td>39</td>\n",
       "      <td>1</td>\n",
       "      <td>0</td>\n",
       "      <td>0</td>\n",
       "      <td>0</td>\n",
       "      <td>1</td>\n",
       "    </tr>\n",
       "    <tr>\n",
       "      <th>344</th>\n",
       "      <td>1000</td>\n",
       "      <td>30</td>\n",
       "      <td>28</td>\n",
       "      <td>1</td>\n",
       "      <td>0</td>\n",
       "      <td>0</td>\n",
       "      <td>0</td>\n",
       "      <td>1</td>\n",
       "    </tr>\n",
       "    <tr>\n",
       "      <th>345</th>\n",
       "      <td>1000</td>\n",
       "      <td>30</td>\n",
       "      <td>26</td>\n",
       "      <td>1</td>\n",
       "      <td>0</td>\n",
       "      <td>0</td>\n",
       "      <td>0</td>\n",
       "      <td>1</td>\n",
       "    </tr>\n",
       "  </tbody>\n",
       "</table>\n",
       "<p>346 rows × 8 columns</p>\n",
       "</div>"
      ],
      "text/plain": [
       "     Principal  terms  age  Gender  weekend  Bechalor  High School or Below  \\\n",
       "0         1000     30   45       1        0         0                     1   \n",
       "1         1000     30   33       0        0         1                     0   \n",
       "2         1000     15   27       1        0         0                     0   \n",
       "3         1000     30   28       0        1         0                     0   \n",
       "4         1000     30   29       1        1         0                     0   \n",
       "..         ...    ...  ...     ...      ...       ...                   ...   \n",
       "341        800     15   32       1        1         0                     1   \n",
       "342       1000     30   25       1        1         0                     1   \n",
       "343        800     15   39       1        0         0                     0   \n",
       "344       1000     30   28       1        0         0                     0   \n",
       "345       1000     30   26       1        0         0                     0   \n",
       "\n",
       "     college  \n",
       "0          0  \n",
       "1          0  \n",
       "2          1  \n",
       "3          1  \n",
       "4          1  \n",
       "..       ...  \n",
       "341        0  \n",
       "342        0  \n",
       "343        1  \n",
       "344        1  \n",
       "345        1  \n",
       "\n",
       "[346 rows x 8 columns]"
      ]
     },
     "execution_count": 152,
     "metadata": {},
     "output_type": "execute_result"
    }
   ],
   "source": [
    "xtest"
   ]
  },
  {
   "cell_type": "code",
   "execution_count": 153,
   "id": "d2cd1a59-8b57-4a7f-b8c5-ce4d19b518a9",
   "metadata": {},
   "outputs": [
    {
     "data": {
      "text/plain": [
       "array([1, 1, 1, 1, 1, 1, 1, 1, 1, 1, 1, 1, 1, 1, 1, 1, 1, 1, 1, 1, 1, 1,\n",
       "       1, 1, 1, 1, 1, 1, 1, 1, 1, 1, 1, 1, 1, 1, 1, 1, 1, 1, 1, 1, 1, 1,\n",
       "       1, 1, 1, 1, 1, 1, 1, 1, 1, 1, 1, 1, 1, 1, 1, 1, 1, 1, 1, 1, 1, 1,\n",
       "       1, 1, 1, 1, 1, 1, 1, 1, 1, 1, 1, 1, 1, 1, 1, 1, 1, 1, 1, 1, 1, 1,\n",
       "       1, 1, 1, 1, 1, 1, 1, 1, 1, 1, 1, 1, 1, 1, 1, 1, 1, 1, 1, 1, 1, 1,\n",
       "       1, 1, 1, 1, 1, 1, 1, 1, 1, 1, 1, 1, 1, 1, 1, 1, 1, 1, 1, 1, 1, 1,\n",
       "       1, 1, 1, 1, 1, 1, 1, 1, 1, 1, 1, 1, 1, 1, 1, 1, 1, 1, 1, 1, 1, 1,\n",
       "       1, 1, 1, 1, 1, 1, 1, 1, 1, 1, 1, 1, 1, 1, 1, 1, 1, 1, 1, 1, 1, 1,\n",
       "       1, 1, 1, 1, 1, 1, 1, 1, 1, 1, 1, 1, 1, 1, 1, 1, 1, 1, 1, 1, 1, 1,\n",
       "       1, 1, 1, 1, 1, 1, 1, 1, 1, 1, 1, 1, 1, 1, 1, 1, 1, 1, 1, 1, 1, 1,\n",
       "       1, 1, 1, 1, 1, 1, 1, 1, 1, 1, 1, 1, 1, 1, 1, 1, 1, 1, 1, 1, 1, 1,\n",
       "       1, 1, 1, 1, 1, 1, 1, 1, 1, 1, 1, 1, 1, 1, 1, 1, 1, 1, 0, 0, 0, 0,\n",
       "       0, 0, 0, 0, 0, 0, 0, 0, 0, 0, 0, 0, 0, 0, 0, 0, 0, 0, 0, 0, 0, 0,\n",
       "       0, 0, 0, 0, 0, 0, 0, 0, 0, 0, 0, 0, 0, 0, 0, 0, 0, 0, 0, 0, 0, 0,\n",
       "       0, 0, 0, 0, 0, 0, 0, 0, 0, 0, 0, 0, 0, 0, 0, 0, 0, 0, 0, 0, 0, 0,\n",
       "       0, 0, 0, 0, 0, 0, 0, 0, 0, 0, 0, 0, 0, 0, 0, 0])"
      ]
     },
     "execution_count": 153,
     "metadata": {},
     "output_type": "execute_result"
    }
   ],
   "source": [
    "ytest"
   ]
  },
  {
   "cell_type": "code",
   "execution_count": 154,
   "id": "05596d92-bc0e-432a-9de4-5804c0514485",
   "metadata": {},
   "outputs": [],
   "source": [
    "y_pred_knn=knnmodel.predict(xtest)\n",
    "y_pred_dt=dtmodel.predict(xtest)\n",
    "y_pred_svm=svmmodel.predict(xtest)\n",
    "y_pred_lr=lrmodel.predict(xtest)\n",
    "y_pred_lr_proba=lrmodel.predict_proba(xtest)"
   ]
  },
  {
   "cell_type": "code",
   "execution_count": 155,
   "id": "e18c1a1f-5c9c-41ae-8777-01ed2e545b34",
   "metadata": {},
   "outputs": [
    {
     "name": "stdout",
     "output_type": "stream",
     "text": [
      "0.858085808580858\n",
      "0.6505494505494505\n",
      "0.858085808580858\n",
      "0.858085808580858\n"
     ]
    }
   ],
   "source": [
    "print(f1_score(ytest,y_pred_knn))\n",
    "print(f1_score(ytest,y_pred_dt))\n",
    "print(f1_score(ytest,y_pred_svm))\n",
    "print(f1_score(ytest,y_pred_lr))"
   ]
  },
  {
   "cell_type": "code",
   "execution_count": 156,
   "id": "8a40cca0-233a-461a-8e34-da85a350cc4a",
   "metadata": {},
   "outputs": [
    {
     "name": "stdout",
     "output_type": "stream",
     "text": [
      "0.7514450867052023\n",
      "0.4820846905537459\n",
      "0.7514450867052023\n",
      "0.7514450867052023\n"
     ]
    }
   ],
   "source": [
    "print(jaccard_score(ytest,y_pred_knn))\n",
    "print(jaccard_score(ytest,y_pred_dt))\n",
    "print(jaccard_score(ytest,y_pred_svm))\n",
    "print(jaccard_score(ytest,y_pred_lr))\n"
   ]
  },
  {
   "cell_type": "code",
   "execution_count": 157,
   "id": "becf5acb-eb88-4058-aee7-e020e09ef713",
   "metadata": {},
   "outputs": [
    {
     "data": {
      "text/plain": [
       "8.584782572145526"
      ]
     },
     "execution_count": 157,
     "metadata": {},
     "output_type": "execute_result"
    }
   ],
   "source": [
    "m_log_loss=log_loss(ytest,y_pred_lr_proba)\n",
    "m_log_loss"
   ]
  },
  {
   "cell_type": "code",
   "execution_count": null,
   "id": "ce5aadc5-2fb1-4407-a913-58307630540c",
   "metadata": {},
   "outputs": [],
   "source": []
  }
 ],
 "metadata": {
  "kernelspec": {
   "display_name": "Python 3",
   "language": "python",
   "name": "python3"
  },
  "language_info": {
   "codemirror_mode": {
    "name": "ipython",
    "version": 3
   },
   "file_extension": ".py",
   "mimetype": "text/x-python",
   "name": "python",
   "nbconvert_exporter": "python",
   "pygments_lexer": "ipython3",
   "version": "3.8.8"
  }
 },
 "nbformat": 4,
 "nbformat_minor": 5
}
